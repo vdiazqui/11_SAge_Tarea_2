{
 "cells": [
  {
   "cell_type": "code",
   "execution_count": 4,
   "metadata": {
    "collapsed": false
   },
   "outputs": [
    {
     "name": "stdout",
     "output_type": "stream",
     "text": [
      "Floor: -4\n",
      "Ceiling: -3\n"
     ]
    }
   ],
   "source": [
    "# Definir el número\n",
    "x = -3.56\n",
    "\n",
    "# Calcular el floor\n",
    "floor_x = floor(x)\n",
    "\n",
    "# Calcular el ceiling\n",
    "ceiling_x = ceil(x)\n",
    "\n",
    "# Mostrar los resultados\n",
    "print(\"Floor:\", floor_x)\n",
    "print(\"Ceiling:\", ceiling_x)\n"
   ]
  },
  {
   "cell_type": "code",
   "execution_count": 7,
   "metadata": {
    "collapsed": false
   },
   "outputs": [
    {
     "name": "stdout",
     "output_type": "stream",
     "text": [
      "Logaritmo en base e: 2*log(10)\n",
      "Logaritmo en base 10: 2\n",
      "Cociente: log(10)\n"
     ]
    }
   ],
   "source": [
    "# Calcular el logaritmo en base e de 100\n",
    "log_e_100 = log(100)\n",
    "\n",
    "# Calcular el logaritmo en base 10 de 100\n",
    "log_10_100 = log(100, 10)\n",
    "\n",
    "# Calcular el cociente\n",
    "cociente_log = log_e_100 / log_10_100\n",
    "\n",
    "# Mostrar los resultados\n",
    "print(\"Logaritmo en base e:\", log_e_100)\n",
    "print(\"Logaritmo en base 10:\", log_10_100)\n",
    "print(\"Cociente:\", cociente_log)"
   ]
  },
  {
   "cell_type": "code",
   "execution_count": 10,
   "metadata": {
    "collapsed": false
   },
   "outputs": [
    {
     "name": "stdout",
     "output_type": "stream",
     "text": [
      "Logaritmo en base 2 de 64: 6\n"
     ]
    }
   ],
   "source": [
    "# Definir el número para el cual se calculará el logaritmo\n",
    "numero = 64\n",
    "\n",
    "# Calcular el logaritmo natural del número\n",
    "logaritmo_natural = log(numero)\n",
    "\n",
    "# Calcular el logaritmo natural de la base (en este caso, 2)\n",
    "logaritmo_natural_base = log(2)\n",
    "\n",
    "# Calcular el logaritmo en base 2 utilizando la fórmula: log2(x) = log(x) / log(2)\n",
    "log_2_64 = logaritmo_natural / logaritmo_natural_base\n",
    "\n",
    "# Mostrar el resultado\n",
    "print(\"Logaritmo en base 2 de 64:\", log_2_64)\n"
   ]
  },
  {
   "cell_type": "code",
   "execution_count": 12,
   "metadata": {
    "collapsed": false
   },
   "outputs": [
    {
     "name": "stdout",
     "output_type": "stream",
     "text": [
      "Resultado exacto (e^(i*pi)): -1\n",
      "Resultado aproximado (e^(i*pi) con pi aproximado): -1.00000000000000 + 1.22464679914735e-16*I\n"
     ]
    }
   ],
   "source": [
    "# Calcular e^(i*pi)\n",
    "r_exacto = exp(I * pi)\n",
    "\n",
    "# Aproximar pi numéricamente\n",
    "pi_aprox = pi.n()\n",
    "\n",
    "# Calcular e^(i*pi) usando pi aproximado\n",
    "r_aprox = exp(I * pi_aprox)\n",
    "\n",
    "# Mostrar los resultados\n",
    "print(\"Resultado exacto (e^(i*pi)):\", r_exacto)\n",
    "print(\"Resultado aproximado (e^(i*pi) con pi aproximado):\", r_aprox)\n"
   ]
  },
  {
   "cell_type": "code",
   "execution_count": 14,
   "metadata": {
    "collapsed": false
   },
   "outputs": [
    {
     "name": "stdout",
     "output_type": "stream",
     "text": [
      "sin(pi/2): 1\n",
      "cot(pi/4): 1\n",
      "csc(pi/16): 1/sin(1/16*pi)\n"
     ]
    }
   ],
   "source": [
    "# Definir los ángulos\n",
    "angulo_1 = pi/2\n",
    "angulo_2 = pi/4\n",
    "angulo_3 = pi/16\n",
    "\n",
    "# Calcular sin(pi/2)\n",
    "sin_pi_over_2 = sin(angulo_1)\n",
    "\n",
    "# Calcular cot(pi/4) utilizando la identidad cot(x) = 1/tan(x)\n",
    "cot_pi_over_4 = 1 / tan(angulo_2)\n",
    "\n",
    "# Calcular csc(pi/16) utilizando la identidad csc(x) = 1/sin(x)\n",
    "csc_pi_over_16 = 1 / sin(angulo_3)\n",
    "\n",
    "# Mostrar los resultados\n",
    "print(\"sin(pi/2):\", sin_pi_over_2)\n",
    "print(\"cot(pi/4):\", cot_pi_over_4)\n",
    "print(\"csc(pi/16):\", csc_pi_over_16)\n"
   ]
  },
  {
   "cell_type": "code",
   "execution_count": 0,
   "metadata": {
    "collapsed": false
   },
   "outputs": [
   ],
   "source": [
   ]
  }
 ],
 "metadata": {
  "kernelspec": {
   "argv": [
    "sage-10.1",
    "--python",
    "-m",
    "sage.repl.ipython_kernel",
    "--matplotlib=inline",
    "-f",
    "{connection_file}"
   ],
   "display_name": "SageMath 10.1",
   "env": {
   },
   "language": "sagemath",
   "metadata": {
    "cocalc": {
     "description": "Open-source mathematical software system",
     "priority": 10,
     "url": "https://www.sagemath.org/"
    }
   },
   "name": "sage-10.1",
   "resource_dir": "/ext/jupyter/kernels/sage-10.1"
  },
  "language_info": {
   "codemirror_mode": {
    "name": "ipython",
    "version": 3
   },
   "file_extension": ".py",
   "mimetype": "text/x-python",
   "name": "python",
   "nbconvert_exporter": "python",
   "pygments_lexer": "ipython3",
   "version": "3.11.1"
  }
 },
 "nbformat": 4,
 "nbformat_minor": 4
}